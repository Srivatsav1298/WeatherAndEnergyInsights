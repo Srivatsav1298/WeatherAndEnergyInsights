{
 "cells": [
  {
   "cell_type": "code",
   "execution_count": 3,
   "metadata": {},
   "outputs": [
    {
     "name": "stdout",
     "output_type": "stream",
     "text": [
      "[NbConvertApp] Converting notebook IND320_part1_dashboard.ipynb to pdf\n",
      "[IPKernelApp] ERROR | KeyboardInterrupt caught in kernel.\n",
      "[NbConvertApp] Support files will be in IND320_part1_dashboard_files/\n",
      "[NbConvertApp] Making directory ./IND320_part1_dashboard_files\n",
      "[NbConvertApp] Writing 40694 bytes to notebook.tex\n",
      "[NbConvertApp] Building PDF\n",
      "[NbConvertApp] Running xelatex 3 times: ['xelatex', 'notebook.tex', '-quiet']\n",
      "[NbConvertApp] Running bibtex 1 time: ['bibtex', 'notebook']\n",
      "[NbConvertApp] WARNING | bibtex had problems, most likely because there were no citations\n",
      "[NbConvertApp] PDF successfully created\n",
      "[NbConvertApp] Writing 504993 bytes to IND320_part1_dashboard.pdf\n"
     ]
    }
   ],
   "source": [
    "!jupyter nbconvert --to pdf IND320_part1_dashboard.ipynb --execute"
   ]
  }
 ],
 "metadata": {
  "kernelspec": {
   "display_name": "nvenv",
   "language": "python",
   "name": "python3"
  },
  "language_info": {
   "codemirror_mode": {
    "name": "ipython",
    "version": 3
   },
   "file_extension": ".py",
   "mimetype": "text/x-python",
   "name": "python",
   "nbconvert_exporter": "python",
   "pygments_lexer": "ipython3",
   "version": "3.9.6"
  },
  "orig_nbformat": 4
 },
 "nbformat": 4,
 "nbformat_minor": 2
}
